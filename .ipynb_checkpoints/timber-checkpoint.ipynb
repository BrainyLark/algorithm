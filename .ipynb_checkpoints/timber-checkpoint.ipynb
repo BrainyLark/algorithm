{
 "cells": [
  {
   "cell_type": "code",
   "execution_count": 44,
   "metadata": {
    "collapsed": true
   },
   "outputs": [],
   "source": [
    "import numpy as np"
   ]
  },
  {
   "cell_type": "code",
   "execution_count": 10,
   "metadata": {
    "collapsed": false
   },
   "outputs": [],
   "source": [
    "MIN_INFI = -100000\n",
    "def timber(costs, n):\n",
    "    maxCosts = [0 for x in range(n+1)]\n",
    "    maxCosts[0] = 0\n",
    " \n",
    "    for i in range(1, n+1):\n",
    "        max_val = MIN_INFI\n",
    "        for j in range(i):\n",
    "            max_val = max(max_val, costs[j] + maxCosts[i-j-1])\n",
    "        maxCosts[i] = max_val\n",
    "\n",
    "    return maxCosts[n]"
   ]
  },
  {
   "cell_type": "code",
   "execution_count": 11,
   "metadata": {
    "collapsed": false
   },
   "outputs": [
    {
     "name": "stdout",
     "output_type": "stream",
     "text": [
      "22\n"
     ]
    }
   ],
   "source": [
    "costs = [1, 5, 8, 9, 10, 17, 17, 20]\n",
    "length = 8\n",
    "print(timber(costs, length))"
   ]
  },
  {
   "cell_type": "code",
   "execution_count": null,
   "metadata": {
    "collapsed": true
   },
   "outputs": [],
   "source": []
  }
 ],
 "metadata": {
  "anaconda-cloud": {},
  "kernelspec": {
   "display_name": "Python [default]",
   "language": "python",
   "name": "python3"
  },
  "language_info": {
   "codemirror_mode": {
    "name": "ipython",
    "version": 3
   },
   "file_extension": ".py",
   "mimetype": "text/x-python",
   "name": "python",
   "nbconvert_exporter": "python",
   "pygments_lexer": "ipython3",
   "version": "3.5.2"
  }
 },
 "nbformat": 4,
 "nbformat_minor": 1
}
