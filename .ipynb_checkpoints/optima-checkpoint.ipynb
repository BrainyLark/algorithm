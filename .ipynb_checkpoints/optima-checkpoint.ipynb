{
 "cells": [
  {
   "cell_type": "code",
   "execution_count": 1,
   "metadata": {
    "collapsed": true
   },
   "outputs": [],
   "source": [
    "import numpy as np"
   ]
  },
  {
   "cell_type": "code",
   "execution_count": 17,
   "metadata": {
    "collapsed": true
   },
   "outputs": [],
   "source": [
    "class Optima:\n",
    "    def __init__(self, mini, maxi):\n",
    "        self.minim = mini\n",
    "        self.maxim = maxi"
   ]
  },
  {
   "cell_type": "code",
   "execution_count": 20,
   "metadata": {
    "collapsed": false
   },
   "outputs": [],
   "source": [
    "def findOptima(arr):\n",
    "    if len(arr) == 1:\n",
    "        return Optima(arr[0], arr[0])\n",
    "    \n",
    "    elif len(arr) == 2:\n",
    "        return Optima(min(arr), max(arr))\n",
    "    \n",
    "    else:\n",
    "        mid = int(len(arr)/2)\n",
    "        leftOpt = findOptima(arr[:mid])\n",
    "        rightOpt = findOptima(arr[mid:])\n",
    "        return Optima(min(leftOpt.minim, rightOpt.minim), max(leftOpt.maxim, rightOpt.maxim))"
   ]
  },
  {
   "cell_type": "code",
   "execution_count": 24,
   "metadata": {
    "collapsed": false
   },
   "outputs": [
    {
     "name": "stdout",
     "output_type": "stream",
     "text": [
      "Min:  12  Max:  671\n"
     ]
    }
   ],
   "source": [
    "a = findOptima(np.array([20, 560, 12, 45, 76, 98, 18, 92, 671]))\n",
    "print(\"Min: \", a.minim, \" Max: \", a.maxim)"
   ]
  },
  {
   "cell_type": "code",
   "execution_count": null,
   "metadata": {
    "collapsed": true
   },
   "outputs": [],
   "source": []
  }
 ],
 "metadata": {
  "anaconda-cloud": {},
  "kernelspec": {
   "display_name": "Python [default]",
   "language": "python",
   "name": "python3"
  },
  "language_info": {
   "codemirror_mode": {
    "name": "ipython",
    "version": 3
   },
   "file_extension": ".py",
   "mimetype": "text/x-python",
   "name": "python",
   "nbconvert_exporter": "python",
   "pygments_lexer": "ipython3",
   "version": "3.5.2"
  }
 },
 "nbformat": 4,
 "nbformat_minor": 1
}
