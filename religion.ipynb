{
 "cells": [
  {
   "cell_type": "code",
   "execution_count": 2,
   "metadata": {
    "collapsed": true
   },
   "outputs": [],
   "source": [
    "import numpy as np"
   ]
  },
  {
   "cell_type": "code",
   "execution_count": 86,
   "metadata": {
    "collapsed": false
   },
   "outputs": [],
   "source": [
    "class Node:\n",
    "    n = []\n",
    "    def __init__(self, data):\n",
    "        self.data = data + 1\n",
    "        self.parent = self\n",
    "        self.rank = 0\n",
    "        Node.n.append(self)\n",
    "        \n",
    "    @staticmethod\n",
    "    def reset():\n",
    "        Node.n = []"
   ]
  },
  {
   "cell_type": "code",
   "execution_count": 87,
   "metadata": {
    "collapsed": true
   },
   "outputs": [],
   "source": [
    "def find(node):\n",
    "    parent = node.parent\n",
    "    \n",
    "    if parent == node:\n",
    "        return parent\n",
    "    \n",
    "    node.parent = find(node.parent)\n",
    "    return node.parent"
   ]
  },
  {
   "cell_type": "code",
   "execution_count": 88,
   "metadata": {
    "collapsed": true
   },
   "outputs": [],
   "source": [
    "def union(x, y):\n",
    "    nodeX = Node.n[x]\n",
    "    nodeY = Node.n[y]\n",
    "    \n",
    "    rootX = find(nodeX)\n",
    "    rootY = find(nodeY)\n",
    "    \n",
    "    if rootX.data == rootY.data:\n",
    "        return False\n",
    "    \n",
    "    if rootX.rank >= rootY.rank:\n",
    "        if rootX.rank == rootY.rank:\n",
    "            rootX.rank += 1\n",
    "        rootY.parent = rootX\n",
    "    else:\n",
    "        rootX.parent = rootY\n",
    "    \n",
    "    return True"
   ]
  },
  {
   "cell_type": "code",
   "execution_count": 89,
   "metadata": {
    "collapsed": true
   },
   "outputs": [],
   "source": [
    "def findSet(x):\n",
    "    return find(Node.n[x]).data"
   ]
  },
  {
   "cell_type": "code",
   "execution_count": 94,
   "metadata": {
    "collapsed": true
   },
   "outputs": [],
   "source": [
    "def __main__(file):\n",
    "    with open(file) as f:\n",
    "        lines = f.readlines()\n",
    "        sets = [list(map(int, line.split())) for line in lines]\n",
    "    f.close()\n",
    "    \n",
    "    finish = 0\n",
    "    while sets[finish] != [0, 0]:\n",
    "        cursor = finish\n",
    "        finish = cursor + sets[cursor][1] + 1\n",
    "        x = sets[cursor][0]\n",
    "        y = sets[cursor][1]\n",
    "        unitset = sets[cursor+1:finish]\n",
    "        print(unitset)\n",
    "        for i in range(x):\n",
    "            Node(i)\n",
    "\n",
    "        for i in range(y):\n",
    "            union(unitset[i][0] - 1, unitset[i][1] - 1)\n",
    "\n",
    "        roots = []\n",
    "\n",
    "        for i in range(x):\n",
    "            roots.append(findSet(i))\n",
    "\n",
    "        print(len(set(roots)))\n",
    "        Node.reset()"
   ]
  },
  {
   "cell_type": "code",
   "execution_count": 95,
   "metadata": {
    "collapsed": false
   },
   "outputs": [
    {
     "name": "stdout",
     "output_type": "stream",
     "text": [
      "[[1, 2], [1, 3], [1, 4], [1, 5], [1, 6], [1, 7], [1, 8], [1, 9], [1, 10]]\n",
      "1\n",
      "[[2, 3], [4, 5], [4, 8], [5, 8]]\n",
      "7\n"
     ]
    }
   ],
   "source": [
    "__main__('religion_in.txt')"
   ]
  }
 ],
 "metadata": {
  "anaconda-cloud": {},
  "kernelspec": {
   "display_name": "Python [default]",
   "language": "python",
   "name": "python3"
  },
  "language_info": {
   "codemirror_mode": {
    "name": "ipython",
    "version": 3
   },
   "file_extension": ".py",
   "mimetype": "text/x-python",
   "name": "python",
   "nbconvert_exporter": "python",
   "pygments_lexer": "ipython3",
   "version": "3.5.2"
  }
 },
 "nbformat": 4,
 "nbformat_minor": 1
}
