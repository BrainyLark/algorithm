{
 "cells": [
  {
   "cell_type": "code",
   "execution_count": 204,
   "metadata": {
    "collapsed": false
   },
   "outputs": [],
   "source": [
    "import numpy as np\n",
    "\n",
    "class Board:\n",
    "    \n",
    "    def __init__(self, axis):\n",
    "        self.axis = axis\n",
    "        self.cells = np.zeros((axis, axis), dtype='int')\n",
    "    \n",
    "    def is_check(self, col, row):\n",
    "        if self.cells[row, col] != 0:\n",
    "            #itself\n",
    "            return True\n",
    "        \n",
    "        #check horizontal\n",
    "        for i in [x for x in range(self.axis) if x != col]:\n",
    "            if self.cells[row][i] != 0:\n",
    "                return True\n",
    "            \n",
    "        #check vertical\n",
    "        for i in [x for x in range(self.axis) if x != row]:\n",
    "            if self.cells[i][col] != 0:\n",
    "                return True\n",
    "        \n",
    "        #check right diagonal\n",
    "        tempc = col\n",
    "        tempr = row\n",
    "        while(tempr > 0) & (tempc < self.axis - 1):\n",
    "            tempc += 1\n",
    "            tempr -= 1\n",
    "            if(self.cells[tempr][tempc] != 0):\n",
    "                return True\n",
    "            \n",
    "        tempc = col\n",
    "        tempr = row\n",
    "        while(tempc > 0) & (tempr < self.axis - 1):\n",
    "            tempc -= 1\n",
    "            tempr += 1\n",
    "            if(self.cells[tempr][tempc] != 0):\n",
    "                return True\n",
    "        \n",
    "        #check left diagonal\n",
    "        tempc = col\n",
    "        tempr = row\n",
    "        while(tempc > 0) & (tempr > 0):\n",
    "            tempc -= 1\n",
    "            tempr -= 1\n",
    "            if(self.cells[tempr][tempc] != 0):\n",
    "                return True\n",
    "            \n",
    "        tempc = col\n",
    "        tempr = row\n",
    "        while(tempc < self.axis - 1) & (tempr < self.axis - 1):\n",
    "            tempc += 1\n",
    "            tempr += 1\n",
    "            if(self.cells[tempr][tempc] != 0):\n",
    "                return True\n",
    "            \n",
    "        return False\n",
    "    \n",
    "    def cell_print(self):\n",
    "        for i in range(self.axis):\n",
    "            for j in range(self.axis):\n",
    "                print(self.cells[i][j], ' ', end='')\n",
    "            print(\"\\n\", end='')\n",
    "            \n",
    "    def backtrack(self, col):\n",
    "        if col >= self.axis:\n",
    "            self.cell_print()\n",
    "            return true\n",
    "        for i in range(self.axis):\n",
    "            if not self.is_check(col, i):\n",
    "                self.cells[i, col] = 1\n",
    "                \n",
    "                if backtrack(self, col + 1):\n",
    "                    return True\n",
    "                \n",
    "                self.cells[i, col] = 0\n",
    "        \n",
    "        return False"
   ]
  },
  {
   "cell_type": "code",
   "execution_count": 205,
   "metadata": {
    "collapsed": false
   },
   "outputs": [
    {
     "name": "stdout",
     "output_type": "stream",
     "text": [
      "1  0  0  0  0  0  0  0  \n",
      "0  0  0  0  0  0  1  0  \n",
      "0  0  0  0  1  0  0  0  \n",
      "0  0  0  0  0  0  0  1  \n",
      "0  1  0  0  0  0  0  0  \n",
      "0  0  0  1  0  0  0  0  \n",
      "0  0  0  0  0  1  0  0  \n",
      "0  0  1  0  0  0  0  0  \n"
     ]
    },
    {
     "data": {
      "text/plain": [
       "True"
      ]
     },
     "execution_count": 205,
     "metadata": {},
     "output_type": "execute_result"
    }
   ],
   "source": [
    "b = Board(8)\n",
    "if b.backtrack(0):\n",
    "    print(\"Solution found\")"
   ]
  },
  {
   "cell_type": "code",
   "execution_count": null,
   "metadata": {
    "collapsed": true
   },
   "outputs": [],
   "source": []
  }
 ],
 "metadata": {
  "anaconda-cloud": {},
  "kernelspec": {
   "display_name": "Python [default]",
   "language": "python",
   "name": "python3"
  },
  "language_info": {
   "codemirror_mode": {
    "name": "ipython",
    "version": 3
   },
   "file_extension": ".py",
   "mimetype": "text/x-python",
   "name": "python",
   "nbconvert_exporter": "python",
   "pygments_lexer": "ipython3",
   "version": "3.5.2"
  }
 },
 "nbformat": 4,
 "nbformat_minor": 1
}
