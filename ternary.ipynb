{
 "cells": [
  {
   "cell_type": "code",
   "execution_count": 175,
   "metadata": {
    "collapsed": false
   },
   "outputs": [],
   "source": [
    "def ternarySearch(elem, start, end, x):\n",
    "    if(end - start > 0):\n",
    "        f_mid = start + int((end-start)/3)\n",
    "        s_mid = f_mid + int((end-start)/3)\n",
    "        if elem[f_mid] == x:\n",
    "            return f_mid\n",
    "        \n",
    "        if elem[s_mid] == x:\n",
    "            return s_mid\n",
    "        \n",
    "        if x < elem[f_mid]:\n",
    "            return ternarySearch(elem, start, f_mid, x)\n",
    "        \n",
    "        if x > elem[s_mid]:\n",
    "            return ternarySearch(elem, s_mid+1, end, x)\n",
    "            \n",
    "        return ternarySearch(elem, f_mid, s_mid, x)\n",
    "    \n",
    "    else:\n",
    "        return -1"
   ]
  },
  {
   "cell_type": "code",
   "execution_count": 186,
   "metadata": {
    "collapsed": false
   },
   "outputs": [
    {
     "name": "stdout",
     "output_type": "stream",
     "text": [
      "found at index: 7\n"
     ]
    }
   ],
   "source": [
    "elements = [12, 45, 67, 98, 145, 278, 548, 729, 890]\n",
    "index = ternarySearch(elements, 0, len(elements), 729)\n",
    "if index == -1:\n",
    "    print(\"not found\")\n",
    "else:\n",
    "    print(\"found at index:\", index)"
   ]
  },
  {
   "cell_type": "code",
   "execution_count": null,
   "metadata": {
    "collapsed": false
   },
   "outputs": [],
   "source": []
  },
  {
   "cell_type": "code",
   "execution_count": null,
   "metadata": {
    "collapsed": true
   },
   "outputs": [],
   "source": []
  }
 ],
 "metadata": {
  "anaconda-cloud": {},
  "kernelspec": {
   "display_name": "Python [default]",
   "language": "python",
   "name": "python3"
  },
  "language_info": {
   "codemirror_mode": {
    "name": "ipython",
    "version": 3
   },
   "file_extension": ".py",
   "mimetype": "text/x-python",
   "name": "python",
   "nbconvert_exporter": "python",
   "pygments_lexer": "ipython3",
   "version": "3.5.2"
  }
 },
 "nbformat": 4,
 "nbformat_minor": 1
}
