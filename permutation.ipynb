{
 "cells": [
  {
   "cell_type": "code",
   "execution_count": 1,
   "metadata": {},
   "outputs": [],
   "source": [
    "import numpy as np"
   ]
  },
  {
   "cell_type": "code",
   "execution_count": 93,
   "metadata": {},
   "outputs": [],
   "source": [
    "class Finder:\n",
    "    \n",
    "    def __init__(self, elements, vessel):\n",
    "        self.elements = elements\n",
    "        self.v_count = len(elements)\n",
    "        self.vessel = vessel\n",
    "    \n",
    "    def permute(self, elems, lvl):\n",
    "        if lvl == self.v_count:\n",
    "            print(self.vessel)\n",
    "            return\n",
    "        \n",
    "        for i in range(len(elems)):\n",
    "            self.vessel = np.append(self.vessel, elems[i])\n",
    "            self.permute(np.append(elems[0:i], elems[i+1:]), lvl+1)\n",
    "            self.vessel = np.delete(self.vessel, lvl)"
   ]
  },
  {
   "cell_type": "code",
   "execution_count": 98,
   "metadata": {},
   "outputs": [
    {
     "name": "stdout",
     "output_type": "stream",
     "text": [
      "['a' 'b' 'c' 'd']\n",
      "['a' 'b' 'd' 'c']\n",
      "['a' 'c' 'b' 'd']\n",
      "['a' 'c' 'd' 'b']\n",
      "['a' 'd' 'b' 'c']\n",
      "['a' 'd' 'c' 'b']\n",
      "['b' 'a' 'c' 'd']\n",
      "['b' 'a' 'd' 'c']\n",
      "['b' 'c' 'a' 'd']\n",
      "['b' 'c' 'd' 'a']\n",
      "['b' 'd' 'a' 'c']\n",
      "['b' 'd' 'c' 'a']\n",
      "['c' 'a' 'b' 'd']\n",
      "['c' 'a' 'd' 'b']\n",
      "['c' 'b' 'a' 'd']\n",
      "['c' 'b' 'd' 'a']\n",
      "['c' 'd' 'a' 'b']\n",
      "['c' 'd' 'b' 'a']\n",
      "['d' 'a' 'b' 'c']\n",
      "['d' 'a' 'c' 'b']\n",
      "['d' 'b' 'a' 'c']\n",
      "['d' 'b' 'c' 'a']\n",
      "['d' 'c' 'a' 'b']\n",
      "['d' 'c' 'b' 'a']\n"
     ]
    }
   ],
   "source": [
    "a = np.array(['a', 'b', 'c', 'd'])\n",
    "v = np.array([], dtype='int')\n",
    "f = Finder(a, v)\n",
    "f.permute(a, 0)"
   ]
  },
  {
   "cell_type": "code",
   "execution_count": null,
   "metadata": {},
   "outputs": [],
   "source": []
  },
  {
   "cell_type": "code",
   "execution_count": null,
   "metadata": {},
   "outputs": [],
   "source": []
  }
 ],
 "metadata": {
  "kernelspec": {
   "display_name": "Python 3",
   "language": "python",
   "name": "python3"
  },
  "language_info": {
   "codemirror_mode": {
    "name": "ipython",
    "version": 3
   },
   "file_extension": ".py",
   "mimetype": "text/x-python",
   "name": "python",
   "nbconvert_exporter": "python",
   "pygments_lexer": "ipython3",
   "version": "3.5.2"
  }
 },
 "nbformat": 4,
 "nbformat_minor": 2
}
