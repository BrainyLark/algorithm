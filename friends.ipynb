{
 "cells": [
  {
   "cell_type": "code",
   "execution_count": 146,
   "metadata": {
    "collapsed": true
   },
   "outputs": [],
   "source": [
    "import numpy as np"
   ]
  },
  {
   "cell_type": "code",
   "execution_count": 147,
   "metadata": {
    "collapsed": false
   },
   "outputs": [],
   "source": [
    "class Node:\n",
    "    \n",
    "    hash_map = {}\n",
    "    \n",
    "    def __init__(self, data):\n",
    "        self.data = data\n",
    "        self.parent = self\n",
    "        self.rank = 0\n",
    "        Node.hash_map[data] = self"
   ]
  },
  {
   "cell_type": "code",
   "execution_count": 148,
   "metadata": {
    "collapsed": true
   },
   "outputs": [],
   "source": [
    "def find(node):\n",
    "    parent = node.parent\n",
    "    \n",
    "    if parent == node:\n",
    "        return parent\n",
    "    \n",
    "    node.parent = find(node.parent)\n",
    "    return node.parent\n",
    "\n",
    "def union(x, y):\n",
    "    nodeX = Node.hash_map[x]\n",
    "    nodeY = Node.hash_map[y]\n",
    "    \n",
    "    rootX = find(nodeX)\n",
    "    rootY = find(nodeY)\n",
    "    \n",
    "    if rootX.data == rootY.data:\n",
    "        return False\n",
    "    \n",
    "    if rootX.rank >= rootY.rank:\n",
    "        if rootX.rank == rootY.rank:\n",
    "            rootX.rank += 1\n",
    "        rootY.parent = rootX\n",
    "    else:\n",
    "        rootX.parent = rootY\n",
    "    \n",
    "    return True"
   ]
  },
  {
   "cell_type": "code",
   "execution_count": 149,
   "metadata": {
    "collapsed": false
   },
   "outputs": [],
   "source": [
    "def findSet(x):\n",
    "    return find(Node.hash_map[x]).data"
   ]
  },
  {
   "cell_type": "code",
   "execution_count": 150,
   "metadata": {
    "collapsed": false
   },
   "outputs": [],
   "source": [
    "def __main__(file):\n",
    "    with open(file) as f:\n",
    "        times = int(f.readline().split()[0])\n",
    "        lines = f.readlines()  \n",
    "        sets = [list(map(int, line.split())) for line in lines]\n",
    "    f.close()\n",
    "    \n",
    "    start = 0\n",
    "    finish = 0\n",
    "    while times:\n",
    "        x, y = sets[start]\n",
    "        for i in range(1, x+1):\n",
    "            if not i in Node.hash_map:\n",
    "                Node(i)\n",
    "\n",
    "        finish = start+y+1\n",
    "\n",
    "        for unit in sets[start+1:finish]:\n",
    "            union(unit[0], unit[1])\n",
    "\n",
    "        scope = np.zeros((x+1), dtype='int')\n",
    "\n",
    "        for i in range(1, x+1):\n",
    "            scope[findSet(i)] += 1\n",
    "\n",
    "        print(max(scope))\n",
    "\n",
    "        start = finish\n",
    "        times -= 1"
   ]
  },
  {
   "cell_type": "code",
   "execution_count": 153,
   "metadata": {
    "collapsed": false
   },
   "outputs": [
    {
     "name": "stdout",
     "output_type": "stream",
     "text": [
      "3\n",
      "7\n"
     ]
    }
   ],
   "source": [
    "#main method\n",
    "__main__('friends_in.txt')"
   ]
  },
  {
   "cell_type": "code",
   "execution_count": null,
   "metadata": {
    "collapsed": false
   },
   "outputs": [],
   "source": []
  },
  {
   "cell_type": "code",
   "execution_count": null,
   "metadata": {
    "collapsed": false
   },
   "outputs": [],
   "source": []
  },
  {
   "cell_type": "code",
   "execution_count": null,
   "metadata": {
    "collapsed": false
   },
   "outputs": [],
   "source": []
  },
  {
   "cell_type": "code",
   "execution_count": null,
   "metadata": {
    "collapsed": true
   },
   "outputs": [],
   "source": []
  }
 ],
 "metadata": {
  "anaconda-cloud": {},
  "kernelspec": {
   "display_name": "Python [default]",
   "language": "python",
   "name": "python3"
  },
  "language_info": {
   "codemirror_mode": {
    "name": "ipython",
    "version": 3
   },
   "file_extension": ".py",
   "mimetype": "text/x-python",
   "name": "python",
   "nbconvert_exporter": "python",
   "pygments_lexer": "ipython3",
   "version": "3.5.2"
  }
 },
 "nbformat": 4,
 "nbformat_minor": 1
}
