{
 "cells": [
  {
   "cell_type": "code",
   "execution_count": 191,
   "metadata": {
    "collapsed": true
   },
   "outputs": [],
   "source": [
    "import numpy as np\n",
    "\n",
    "def lcs(P, Q, n, m):\n",
    "    if memory[n][m] != -1:\n",
    "        return memory[n][m]\n",
    "    \n",
    "    if n == 0 or m == 0:\n",
    "        res = 0\n",
    "    \n",
    "    elif P[n-1] == Q[m-1]:\n",
    "        res = 1 + lcs(P, Q, n-1, m-1)\n",
    "        \n",
    "    elif P[n-1] != Q[m-1]:\n",
    "        left = lcs(P, Q, n-1, m)\n",
    "        right = lcs(P, Q, n, m-1)\n",
    "        res = max(left, right)\n",
    "    \n",
    "    memory[n][m] = res\n",
    "    return res\n",
    "\n",
    "def derive(mem):\n",
    "    n, m = mem.shape\n",
    "    n -= 1\n",
    "    m -= 1\n",
    "    stack = []\n",
    "    while n > 0 and m > 0:\n",
    "        t = mem[n, m]\n",
    "        if (t > mem[n-1, m-1]) and (t > mem[n-1, m]) and (t > mem[n, m-1]):\n",
    "            stack.insert(0, str1[n-1])\n",
    "            n -= 1\n",
    "            m -= 1\n",
    "        elif mem[n, m-1] > mem[n-1, m]:\n",
    "            m -= 1\n",
    "        else:\n",
    "            n -= 1\n",
    "    return stack"
   ]
  },
  {
   "cell_type": "code",
   "execution_count": 192,
   "metadata": {
    "collapsed": false
   },
   "outputs": [
    {
     "name": "stdout",
     "output_type": "stream",
     "text": [
      "LCS length: 5\n",
      "LCS: ['T', 'U', 'U', 'T', 'I']\n"
     ]
    }
   ],
   "source": [
    "str1 = \"TUWUGTEI\"\n",
    "str2 = \"TUUSHTAI\"\n",
    "memory = np.full((len(str1)+1, len(str2)+1), -1, dtype='int')\n",
    "print(\"LCS length:\", lcs(str1, str2, len(str1), len(str2)))\n",
    "print(\"LCS:\", derive(memory))"
   ]
  },
  {
   "cell_type": "code",
   "execution_count": null,
   "metadata": {
    "collapsed": false
   },
   "outputs": [],
   "source": []
  }
 ],
 "metadata": {
  "kernelspec": {
   "display_name": "Python [default]",
   "language": "python",
   "name": "python3"
  },
  "language_info": {
   "codemirror_mode": {
    "name": "ipython",
    "version": 3
   },
   "file_extension": ".py",
   "mimetype": "text/x-python",
   "name": "python",
   "nbconvert_exporter": "python",
   "pygments_lexer": "ipython3",
   "version": "3.5.2"
  }
 },
 "nbformat": 4,
 "nbformat_minor": 1
}
